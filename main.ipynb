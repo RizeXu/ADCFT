{
 "cells": [
  {
   "cell_type": "code",
   "id": "initial_id",
   "metadata": {
    "collapsed": true,
    "ExecuteTime": {
     "end_time": "2025-08-24T07:28:31.540794Z",
     "start_time": "2025-08-24T07:28:31.535817Z"
    }
   },
   "source": [
    "import torch\n",
    "import numpy as np\n",
    "import matplotlib.pyplot as plt\n",
    "\n",
    "from Operator import Operator\n",
    "from solve import fit_c, solve, measure\n",
    "\n",
    "from utils import print_state\n"
   ],
   "outputs": [],
   "execution_count": 35
  },
  {
   "cell_type": "code",
   "id": "1ea370f750a0f0b2",
   "metadata": {
    "ExecuteTime": {
     "end_time": "2025-08-24T07:28:31.550108Z",
     "start_time": "2025-08-24T07:28:31.547082Z"
    }
   },
   "source": [
    "# 0. define `build_B` function\n",
    "# below function builds :\n",
    "#   a[0] * O[2,2] + a[1] * O[2,0]\n",
    "# + a[2] * O[4,4] + a[3] * O[4,2]\n",
    "# + a[4] * O[4,0] + a[5] * O[6,6] + a[6] * O[6,4] + a[7] * O[6,2] + a[8] * O[6,0]\n",
    "\n",
    "def build_B(a):\n",
    "    r\"\"\"\n",
    "    build the coefficient for steven operators O[l,m]\n",
    "\n",
    "\n",
    "    Args:\n",
    "        a (torch.Tensor): initial parameters to construct\n",
    "\n",
    "    Returns:\n",
    "        B2 (torch.Tensor): coefficient for O[2,2],O[2,1],O[2,0],O[2,-1],O[2,-2]\n",
    "        B4 (torch.Tensor): coefficient for O[4,4],O[4,3],O[4,2],O[4,1],O[4,0],O[4,-1],O[4,-2],O[4,-3],O[4,-4]\n",
    "        B6 (torch.Tensor): coefficient for O[6,6],O[6,5],O[6,4],O[6,3],O[6,2],O[6,1],O[6,0],O[6,-1],O[6,-2],O[6,-3],O[6,-4],O[6,-5],O[6,-6]\n",
    "    \"\"\"\n",
    "    zero = torch.tensor(0.0)\n",
    "\n",
    "    B2 = torch.stack([a[0], zero, a[1], zero, zero])\n",
    "    B4 = torch.stack([a[2], zero, a[3], zero, a[4], zero, zero, zero, zero])\n",
    "    B6 = torch.stack([a[5], zero, a[6], zero, a[7], zero, a[8], zero, zero, zero, zero, zero, zero])\n",
    "\n",
    "    return B2, B4, B6"
   ],
   "outputs": [],
   "execution_count": 36
  },
  {
   "cell_type": "code",
   "id": "f5983be01f9f39d4",
   "metadata": {
    "ExecuteTime": {
     "end_time": "2025-08-24T07:28:31.564626Z",
     "start_time": "2025-08-24T07:28:31.556223Z"
    }
   },
   "source": [
    "# 1. define steven operators\n",
    "spin=4.5\n",
    "op = Operator(spin)\n",
    "\n",
    "# 2. load experiment data\n",
    "data = np.loadtxt('Cv.dat')\n",
    "kT = torch.tensor(data[:, 0])\n",
    "cexp = torch.tensor(data[:, 1])\n"
   ],
   "outputs": [
    {
     "name": "stdout",
     "output_type": "stream",
     "text": [
      "the steven operator for s=4.5 is successfully built\n"
     ]
    }
   ],
   "execution_count": 37
  },
  {
   "metadata": {
    "ExecuteTime": {
     "end_time": "2025-08-24T07:28:31.808443Z",
     "start_time": "2025-08-24T07:28:31.609886Z"
    }
   },
   "cell_type": "code",
   "source": [
    "# 3. set the initial parameters, bounds(optional), method(optional) for curve fit\n",
    "# opt1: give a guess\n",
    "# a0 = torch.tensor([0.3, -0.3, -0.02, -0.03, 0.0, 0.0, 0.0, 0.0, 0.0])\n",
    "\n",
    "# opt2: give a scope, different scale is suggested to try\n",
    "# a0 = 1 * (torch.rand(9) - 0.5) # [-0.5, 0.5)\n",
    "# a0 = 0.1 * (torch.rand(9) - 0.5) # [-0.05, 0.05)\n",
    "a0 = 0.01 * (torch.rand(9) - 0.5) # [-0.005, 0.005)\n",
    "\n",
    "# not necessary\n",
    "# bounds = list(zip(-np.ones(a0.shape[0]), np.ones(a0.shape[0])))\n",
    "# method='L-BFGS-B'\n",
    "\n",
    "# 4.1 fit, a function to call `scipy.optimize.minimize`, see more details about it https://docs.scipy.org/doc/scipy/reference/generated/scipy.optimize.curve_fit.html\n",
    "# res = fit_c(a0, kT, cexp, op, build_B, method, bounds)\n",
    "res = fit_c(a0, kT, cexp, op, build_B)\n",
    "# check if the fit succeed\n",
    "print(res)\n",
    "\n",
    "# 4.2. obtain the CFT parameters\n",
    "a = torch.tensor(res.x)\n",
    "B2, B4, B6 = build_B(a)\n"
   ],
   "id": "d73cddff0ad367f3",
   "outputs": [
    {
     "name": "stdout",
     "output_type": "stream",
     "text": [
      "  message: ABNORMAL_TERMINATION_IN_LNSRCH\n",
      "  success: False\n",
      "   status: 2\n",
      "      fun: 3.3984838052784936e-12\n",
      "        x: [-2.289e-03 -2.294e-03  7.576e-04 -5.824e-03  1.045e-02\n",
      "            -4.311e-03  1.726e-03 -6.941e-04 -3.310e-05]\n",
      "      nit: 207\n",
      "      jac: [ 1.155e-07  5.345e-07  6.163e-06  1.901e-05 -1.422e-04\n",
      "             5.392e-04  1.514e-04 -7.773e-05 -3.353e-04]\n",
      "     nfev: 303\n",
      "     njev: 303\n",
      " hess_inv: <9x9 LbfgsInvHessProduct with dtype=float64>\n"
     ]
    }
   ],
   "execution_count": 38
  },
  {
   "metadata": {
    "ExecuteTime": {
     "end_time": "2025-08-24T07:28:31.855029Z",
     "start_time": "2025-08-24T07:28:31.852320Z"
    }
   },
   "cell_type": "code",
   "source": [
    "# 5.1. with the optimized parameters, calculate energy and heat specific\n",
    "u, c = measure(op, kT, B2, B4, B6)"
   ],
   "id": "4149809818603780",
   "outputs": [],
   "execution_count": 39
  },
  {
   "metadata": {
    "ExecuteTime": {
     "end_time": "2025-08-24T07:28:31.956092Z",
     "start_time": "2025-08-24T07:28:31.864452Z"
    }
   },
   "cell_type": "code",
   "source": [
    "# 5.2. plot\n",
    "plt.rcParams['figure.figsize'] = (6, 4.5)\n",
    "plt.rcParams['figure.facecolor'] = 'none'\n",
    "plt.rcParams['font.size'] = 15\n",
    "\n",
    "plt.rcParams['text.usetex'] = True\n",
    "plt.rcParams['text.latex.preamble'] = r'\\usepackage{amsmath,newtxtext,newtxmath,bm}'\n",
    "plt.rcParams['font.family'] = 'TeX Gyre Termes'\n",
    "\n",
    "plt.semilogx(kT.data, c.data, 'k-', label='fit')\n",
    "plt.semilogx(kT.data, cexp.data, 'rs', label='exp')\n",
    "plt.xlabel(r\"T[\\rm{K}]\")\n",
    "plt.ylabel(r\"C[\\rm{arb.unit}]\")\n",
    "\n",
    "plt.legend()\n",
    "plt.show()\n"
   ],
   "id": "e75d93813a3301fc",
   "outputs": [
    {
     "data": {
      "text/plain": [
       "<Figure size 600x450 with 1 Axes>"
      ],
      "image/png": "[encoded data removed]"
     },
     "metadata": {
      "needs_background": "light"
     },
     "output_type": "display_data"
    }
   ],
   "execution_count": 40
  },
  {
   "metadata": {
    "ExecuteTime": {
     "end_time": "2025-08-24T07:28:31.961972Z",
     "start_time": "2025-08-24T07:28:31.959707Z"
    }
   },
   "cell_type": "code",
   "source": [
    "# 6.1. with the optimized parameters, calculate energy levels and associated wave functions\n",
    "enr, psi = solve(op, B2, B4, B6)"
   ],
   "id": "b217bcc4b95d8363",
   "outputs": [],
   "execution_count": 41
  },
  {
   "metadata": {
    "ExecuteTime": {
     "end_time": "2025-08-24T07:28:31.975356Z",
     "start_time": "2025-08-24T07:28:31.972121Z"
    }
   },
   "cell_type": "code",
   "source": [
    "# 6.2. list the states\n",
    "N = op.N\n",
    "print_state(N, enr, psi)\n",
    "# if the format is not so tidy up, try to copy the output to normal `txt` file"
   ],
   "id": "67315f8eae82bf2a",
   "outputs": [
    {
     "name": "stdout",
     "output_type": "stream",
     "text": [
      "      Eigenvalue       |      |4.5>      |      |4.0>      |      |3.5>      |      |3.0>      |      |2.5>      |      |2.0>      |      |1.5>      |      |1.0>      |      |0.5>      |      |0.0>      |     |-0.5>      |     |-1.0>      |     |-1.5>      |     |-2.0>      |     |-2.5>      |     |-3.0>      |     |-3.5>      |     |-4.0>      |     |-4.5>     \n",
      "----------------------------------------------------------------------------------------------------------------------------------------------------------------------------------------------------------------------------------------------------------------------------------------------------------------------------------------------------------------------------\n",
      "        0.0000         | +0.1215+0.0000j | -0.0000+0.0000j | +0.7082+0.0000j | -0.0000+0.0000j | -0.0802+0.0000j | +0.0000+0.0000j | +0.1208+0.0000j | -0.0000+0.0000j | +0.6802+0.0000j | -0.0000+0.0000j\n",
      "        0.0000         | +0.0000+0.0000j | +0.6802+0.0000j | +0.0000+0.0000j | +0.1208+0.0000j | -0.0000+0.0000j | -0.0802+0.0000j | +0.0000+0.0000j | +0.7082+0.0000j | +0.0000+0.0000j | +0.1215+0.0000j\n",
      "       28.5842         | +0.4659+0.0000j | -0.1313+0.0000j | +0.1854+0.0000j | +0.2168+0.0000j | -0.1369+0.0000j | -0.0434+0.0000j | +0.6835+0.0000j | +0.0588+0.0000j | -0.4138+0.0000j | +0.1478+0.0000j\n",
      "       28.5842         | -0.1478+0.0000j | -0.4138+0.0000j | -0.0588+0.0000j | +0.6835+0.0000j | +0.0434+0.0000j | -0.1369+0.0000j | -0.2168+0.0000j | +0.1854+0.0000j | +0.1313+0.0000j | +0.4659+0.0000j\n",
      "       47.4868         | +0.2177+0.0000j | +0.4101+0.0000j | -0.3118+0.0000j | +0.0615+0.0000j | -0.2491+0.0000j | -0.4092+0.0000j | +0.0374+0.0000j | -0.5121+0.0000j | +0.2497+0.0000j | +0.3575+0.0000j\n",
      "       47.4868         | -0.3575-0.0000j | +0.2497+0.0000j | +0.5121+0.0000j | +0.0374+0.0000j | +0.4092+0.0000j | -0.2491+0.0000j | -0.0615+0.0000j | -0.3118+0.0000j | -0.4101+0.0000j | +0.2177+0.0000j\n",
      "       51.5794         | +0.0290+0.0000j | +0.3411+0.0000j | +0.0389+0.0000j | +0.5764+0.0000j | -0.0761+0.0000j | +0.6176+0.0000j | -0.0710+0.0000j | -0.3156+0.0000j | -0.0420+0.0000j | -0.2356+0.0000j\n",
      "       51.5794         | -0.2356+0.0000j | +0.0420+0.0000j | -0.3156+0.0000j | +0.0710+0.0000j | +0.6176+0.0000j | +0.0761+0.0000j | +0.5764+0.0000j | -0.0389+0.0000j | +0.3411+0.0000j | -0.0290+0.0000j\n",
      "       72.1036         | +0.7175+0.0000j | -0.0000+0.0000j | -0.0078+0.0000j | +0.0010+0.0000j | +0.5968+0.0000j | -0.0016+0.0000j | -0.3589+0.0000j | +0.0000+0.0000j | +0.0141+0.0000j | -0.0020+0.0000j\n",
      "       72.1037         | +0.0020+0.0000j | +0.0141+0.0000j | -0.0000+0.0000j | -0.3589+0.0000j | +0.0016+0.0000j | +0.5968+0.0000j | -0.0010+0.0000j | -0.0078+0.0000j | +0.0000+0.0000j | +0.7175+0.0000j\n"
     ]
    }
   ],
   "execution_count": 42
  }
 ],
 "metadata": {
  "kernelspec": {
   "display_name": "PYTORCH",
   "language": "python",
   "name": "python3"
  },
  "language_info": {
   "codemirror_mode": {
    "name": "ipython",
    "version": 3
   },
   "file_extension": ".py",
   "mimetype": "text/x-python",
   "name": "python",
   "nbconvert_exporter": "python",
   "pygments_lexer": "ipython3",
   "version": "3.11.5"
  }
 },
 "nbformat": 4,
 "nbformat_minor": 5
}
