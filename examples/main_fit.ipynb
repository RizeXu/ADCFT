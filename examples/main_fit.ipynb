{
 "cells": [
  {
   "cell_type": "code",
   "id": "initial_id",
   "metadata": {
    "collapsed": true,
    "ExecuteTime": {
     "end_time": "2025-09-15T13:29:09.253406Z",
     "start_time": "2025-09-15T13:29:08.173608Z"
    }
   },
   "source": [
    "import torch\n",
    "import matplotlib.pyplot as plt\n",
    "\n",
    "from src.model import Model"
   ],
   "outputs": [],
   "execution_count": 1
  },
  {
   "metadata": {
    "ExecuteTime": {
     "end_time": "2025-09-15T13:29:09.260286Z",
     "start_time": "2025-09-15T13:29:09.257723Z"
    }
   },
   "cell_type": "code",
   "source": [
    "# 0. define a model to fit\n",
    "# this FitModel build a model with CEF:\n",
    "#   a0 * O[2,2] + a1 * O[2,0]\n",
    "# + a2 * O[4,4] + a3 * O[4,2] + a4 * O[4,0]\n",
    "# + a5 * O[6,6] + a6 * O[6,4] + a7 * O[6,2] + a8 * O[6,0]\n",
    "class FitModel(Model):\n",
    "    def build_CEFparam(self, a):\n",
    "        r\"\"\"\n",
    "        build the coefficient for steven operators O[l,m]\n",
    "\n",
    "        Args:\n",
    "            a (torch.Tensor): initial parameters to construct\n",
    "\n",
    "        Returns:\n",
    "            B2 (torch.Tensor): coefficient for O[2,2],O[2,1],O[2,0],O[2,-1],O[2,-2]\n",
    "            B4 (torch.Tensor): coefficient for O[4,4],O[4,3],O[4,2],O[4,1],O[4,0],O[4,-1],O[4,-2],O[4,-3],O[4,-4]\n",
    "            B6 (torch.Tensor): coefficient for O[6,6],O[6,5],O[6,4],O[6,3],O[6,2],O[6,1],O[6,0],O[6,-1],O[6,-2],O[6,-3],O[6,-4],O[6,-5],O[6,-6]\n",
    "        \"\"\"\n",
    "        zero = torch.tensor(0.0)\n",
    "        B2 = torch.stack([a[0], zero, a[1], zero, zero])\n",
    "        B4 = torch.stack([a[2], zero, a[3], zero, a[4], zero, zero, zero, zero])\n",
    "        B6 = torch.stack([a[5], zero, a[6], zero, a[7], zero, a[8], zero, zero, zero, zero, zero, zero])\n",
    "\n",
    "        return B2, B4, B6\n"
   ],
   "id": "1868050034d3cdbc",
   "outputs": [],
   "execution_count": 2
  },
  {
   "cell_type": "code",
   "id": "f5983be01f9f39d4",
   "metadata": {
    "ExecuteTime": {
     "end_time": "2025-09-15T13:29:09.332997Z",
     "start_time": "2025-09-15T13:29:09.328918Z"
    }
   },
   "source": [
    "# 1. define the model\n",
    "spin=4.5\n",
    "\n",
    "model = FitModel(spin=spin, g=torch.tensor([2.0, 2.0, 2.0]))\n"
   ],
   "outputs": [
    {
     "name": "stdout",
     "output_type": "stream",
     "text": [
      "the steven operator for s=4.5 is successfully built\n"
     ]
    }
   ],
   "execution_count": 3
  },
  {
   "metadata": {
    "ExecuteTime": {
     "end_time": "2025-09-15T13:29:09.498755Z",
     "start_time": "2025-09-15T13:29:09.493140Z"
    }
   },
   "cell_type": "code",
   "source": [
    "# 2. load experiment data\n",
    "# cv data\n",
    "model.read_cdata(filename ='cv-0.00.dat', B0 = 0.0)\n",
    "# model.read_cdata(filename = 'cv-0.00.dat', B0 = 0.0, axis='z')\n",
    "# continue to read\n",
    "# model.read_cdata(filename = 'cv-1.00.dat', B0 = 1.0)\n",
    "\n",
    "# chi data\n",
    "model.read_chidata(filename ='chi-0.01.dat', B0 = 0.01)\n",
    "# model.read_chidata(filename = 'chi-0.01.dat', B0 = 0.01, axis='z')\n",
    "# continue to read\n",
    "# model.read_chidata(filename = 'chi-1.00.dat', B0 = 1.0)"
   ],
   "id": "e76abb51db3b559f",
   "outputs": [],
   "execution_count": 4
  },
  {
   "metadata": {
    "ExecuteTime": {
     "end_time": "2025-09-15T13:29:09.593664Z",
     "start_time": "2025-09-15T13:29:09.587664Z"
    }
   },
   "cell_type": "code",
   "source": [
    "# 3. set the initial parameters, bounds(optional), method(optional) for curve fit\n",
    "\n",
    "# set different seed for a better result\n",
    "torch.manual_seed(0)\n",
    "\n",
    "# opt1: give a guess\n",
    "# a0 = torch.tensor([0.3631, -0.4536, 0.0241, 0.0403, 0.0089, -0.001, 0.0008, 0.0015, -3.94e-5])\n",
    "\n",
    "# opt2: give a scope, different scale is suggested to try\n",
    "a0 = 0.001 * (torch.rand(9) - 0.5) # [-0.005, 0.005)\n",
    "\n",
    "# consider lambda and chi0 correction for magnetic susceptibility\n",
    "a0 = torch.cat((a0, torch.tensor([0.0]), torch.tensor([0.0])))\n",
    "\n",
    "# the fit weight\n",
    "# fit the c and chi with weight 1 and 10, respectively\n",
    "weight = torch.tensor([1.0 , 10.0])\n",
    "\n",
    "# the following set is not necessary\n",
    "# bounds = list(zip(-np.ones(a0.shape[0]), np.ones(a0.shape[0])))\n",
    "# method='L-BFGS-B'\n",
    "\n"
   ],
   "id": "d73cddff0ad367f3",
   "outputs": [],
   "execution_count": 5
  },
  {
   "metadata": {
    "jupyter": {
     "is_executing": true
    },
    "ExecuteTime": {
     "start_time": "2025-09-15T13:29:09.599969Z"
    }
   },
   "cell_type": "code",
   "source": [
    "# 4. fit, a function to call `scipy.optimize.minimize`, see more details about it https://docs.scipy.org/doc/scipy/reference/generated/scipy.optimize.curve_fit.html\n",
    "\n",
    "# when fit with susceptibility data, it takes more time\n",
    "# use effective susceptibility\n",
    "# res = model.fit(a0,\n",
    "#                 weight=weight)\n",
    "\n",
    "# not use effective susceptibility\n",
    "res = model.fit(a0,\n",
    "                weight=weight,\n",
    "                eff=False)\n",
    "\n",
    "# check if the fit succeed\n",
    "# compare the initial loss and optimized loss\n",
    "print(res)\n",
    "\n",
    "# set\n",
    "model.set_fitres(res)"
   ],
   "id": "f48ee900b1281c76",
   "outputs": [
    {
     "name": "stdout",
     "output_type": "stream",
     "text": [
      "with initial loss : [14.80437429]\n"
     ]
    }
   ],
   "execution_count": null
  },
  {
   "metadata": {
    "ExecuteTime": {
     "end_time": "2025-09-15T11:55:34.050143Z",
     "start_time": "2025-09-15T11:55:34.044881Z"
    }
   },
   "cell_type": "code",
   "source": [
    "# 5. with the optimized parameters, calculate energy levels and associated wave functions\n",
    "B0 = torch.tensor([0.0])\n",
    "enr, psi = model.solve(B0, axis='z', in_unit='exp')\n",
    "# copy the output into text file to see clearly\n",
    "# exp unit : enr, [meV]"
   ],
   "id": "67315f8eae82bf2a",
   "outputs": [
    {
     "name": "stdout",
     "output_type": "stream",
     "text": [
      "      Eigenvalue       |      |4.5>      |      |3.5>      |      |2.5>      |      |1.5>      |      |0.5>      |     |-0.5>      |     |-1.5>      |     |-2.5>      |     |-3.5>      |     |-4.5>     \n",
      "----------------------------------------------------------------------------------------------------------------------------------------------------------------------------------------------------------\n",
      "        0.0000         | +0.6848+0.0000j | +0.0000+0.0000j | -0.2813+0.0000j | +0.0000+0.0000j | -0.4705+0.0000j | +0.0000+0.0000j | -0.3942+0.0000j | +0.0000+0.0000j | +0.2742+0.0000j | -0.0000+0.0000j\n",
      "        0.0000         | +0.0000+0.0000j | +0.2742+0.0000j | +0.0000+0.0000j | -0.3942+0.0000j | -0.0000+0.0000j | -0.4705+0.0000j | +0.0000+0.0000j | -0.2813+0.0000j | +0.0000+0.0000j | +0.6848+0.0000j\n",
      "        2.5194         | -0.0155+0.0000j | -0.5052+0.0000j | +0.0030+0.0000j | +0.5005+0.0000j | -0.0069+0.0000j | +0.2798+0.0000j | -0.0123+0.0000j | -0.1206+0.0000j | +0.0124+0.0000j | +0.6331+0.0000j\n",
      "        2.5194         | -0.6331-0.0000j | +0.0124+0.0000j | +0.1206+0.0000j | -0.0123+0.0000j | -0.2798+0.0000j | -0.0069+0.0000j | -0.5005+0.0000j | +0.0030+0.0000j | +0.5052+0.0000j | -0.0155+0.0000j\n",
      "        3.6583         | +0.0198+0.0000j | -0.3016+0.0000j | +0.5114+0.0000j | -0.0488+0.0000j | -0.4664+0.0000j | -0.3322+0.0000j | -0.0684+0.0000j | +0.3643+0.0000j | -0.4234+0.0000j | +0.0141+0.0000j\n",
      "        3.6583         | -0.0141+0.0000j | -0.4234+0.0000j | -0.3643+0.0000j | -0.0684+0.0000j | +0.3322+0.0000j | -0.4664+0.0000j | +0.0488+0.0000j | +0.5114+0.0000j | +0.3016+0.0000j | +0.0198+0.0000j\n",
      "        5.1660         | -0.1634+0.0000j | +0.0315+0.0000j | -0.2691+0.0000j | +0.4763+0.0000j | -0.3805+0.0000j | -0.4771+0.0000j | +0.3799+0.0000j | -0.3374+0.0000j | +0.0251+0.0000j | -0.2048+0.0000j\n",
      "        5.1660         | -0.2048+0.0000j | -0.0251+0.0000j | -0.3374+0.0000j | -0.3799+0.0000j | -0.4771+0.0000j | +0.3805+0.0000j | +0.4763+0.0000j | +0.2691+0.0000j | +0.0315+0.0000j | +0.1634+0.0000j\n",
      "        5.8345         | +0.2465+0.0000j | +0.0028+0.0000j | +0.5708+0.0000j | +0.0020+0.0000j | -0.0042+0.0000j | -0.0000+0.0000j | +0.4645+0.0000j | +0.0025+0.0000j | +0.6306+0.0000j | +0.0011+0.0000j\n",
      "        5.8345         | +0.0011+0.0000j | -0.6306+0.0000j | +0.0025+0.0000j | -0.4645+0.0000j | -0.0000+0.0000j | +0.0042+0.0000j | +0.0020+0.0000j | -0.5708+0.0000j | +0.0028+0.0000j | -0.2465+0.0000j\n"
     ]
    }
   ],
   "execution_count": 7
  },
  {
   "metadata": {
    "ExecuteTime": {
     "end_time": "2025-09-15T11:55:34.059058Z",
     "start_time": "2025-09-15T11:55:34.055567Z"
    }
   },
   "cell_type": "code",
   "source": [
    "# 6.1. with the optimized parameters, calculate energy and heat specific\n",
    "kT = model.cdata[0].kT\n",
    "B0 = model.cdata[0].B0\n",
    "cexp = model.cdata[0].measure\n",
    "\n",
    "u, c = model.measure_uc(kT, B0)"
   ],
   "id": "211e45ead9eddb47",
   "outputs": [],
   "execution_count": 8
  },
  {
   "metadata": {
    "ExecuteTime": {
     "end_time": "2025-09-15T11:55:34.347453Z",
     "start_time": "2025-09-15T11:55:34.068618Z"
    }
   },
   "cell_type": "code",
   "source": [
    "# 6.2. plot\n",
    "plt.rcParams['figure.figsize'] = (6, 4.5)\n",
    "plt.rcParams['figure.facecolor'] = 'none'\n",
    "plt.rcParams['font.size'] = 15\n",
    "\n",
    "plt.rcParams['text.usetex'] = True\n",
    "plt.rcParams['text.latex.preamble'] = r'\\usepackage{amsmath,newtxtext,newtxmath,bm}'\n",
    "plt.rcParams['font.family'] = 'TeX Gyre Termes'\n",
    "\n",
    "plt.semilogx(kT.data, cexp.data, 'rs', label='exp')\n",
    "plt.semilogx(kT.data, c.data, 'k-', label='fit')\n",
    "plt.xlabel(r\"$T[\\rm{K}]$\")\n",
    "plt.ylabel(r\"$c[{\\rm J} ~ {K}^{-1} ~ {\\rm mol}^{-1}]$\")\n",
    "\n",
    "plt.legend()\n",
    "plt.show()\n"
   ],
   "id": "9d9ac10ee4ccd33a",
   "outputs": [
    {
     "data": {
      "text/plain": [
       "<Figure size 600x450 with 1 Axes>"
      ],
      "image/png": "[encoded data removed]"
     },
     "metadata": {
      "needs_background": "light"
     },
     "output_type": "display_data",
     "jetTransient": {
      "display_id": null
     }
    }
   ],
   "execution_count": 9
  },
  {
   "metadata": {
    "ExecuteTime": {
     "end_time": "2025-09-15T11:55:34.578518Z",
     "start_time": "2025-09-15T11:55:34.351684Z"
    }
   },
   "cell_type": "code",
   "source": [
    "# 6.3. with the optimized parameters, calculate magnetization and susceptibility\n",
    "kT = model.chidata[0].kT\n",
    "B0 = model.chidata[0].B0\n",
    "chiexp = model.chidata[0].measure\n",
    "\n",
    "m, chi = model.measure_mchi(kT, B0)"
   ],
   "id": "d7d72dce225b5bef",
   "outputs": [],
   "execution_count": 10
  },
  {
   "metadata": {
    "ExecuteTime": {
     "end_time": "2025-09-15T11:55:34.663705Z",
     "start_time": "2025-09-15T11:55:34.582314Z"
    }
   },
   "cell_type": "code",
   "source": [
    "# 6.4. plot\n",
    "plt.rcParams['figure.figsize'] = (6, 4.5)\n",
    "plt.rcParams['figure.facecolor'] = 'none'\n",
    "plt.rcParams['font.size'] = 15\n",
    "\n",
    "plt.rcParams['text.usetex'] = True\n",
    "plt.rcParams['text.latex.preamble'] = r'\\usepackage{amsmath,newtxtext,newtxmath,bm}'\n",
    "plt.rcParams['font.family'] = 'TeX Gyre Termes'\n",
    "\n",
    "plt.semilogx(kT.data, chiexp.data, 'rs', label='exp')\n",
    "plt.semilogx(kT.data, chi.data, 'k-', label='fit')\n",
    "plt.xlabel(r\"$T[\\rm{K}]$\")\n",
    "plt.ylabel(r\"$\\chi[{\\rm emu} ~ {\\rm mol}^{-1}]$\")\n",
    "\n",
    "plt.legend()\n",
    "plt.show()\n"
   ],
   "id": "a3e65d72d33e7d6d",
   "outputs": [
    {
     "data": {
      "text/plain": [
       "<Figure size 600x450 with 1 Axes>"
      ],
      "image/png": "[encoded data removed]"
     },
     "metadata": {
      "needs_background": "light"
     },
     "output_type": "display_data",
     "jetTransient": {
      "display_id": null
     }
    }
   ],
   "execution_count": 11
  },
  {
   "metadata": {
    "ExecuteTime": {
     "end_time": "2025-09-15T11:55:34.668296Z",
     "start_time": "2025-09-15T11:55:34.666911Z"
    }
   },
   "cell_type": "code",
   "source": "",
   "id": "f48a1239319cba7",
   "outputs": [],
   "execution_count": null
  }
 ],
 "metadata": {
  "kernelspec": {
   "display_name": "PYTORCH",
   "language": "python",
   "name": "python3"
  },
  "language_info": {
   "codemirror_mode": {
    "name": "ipython",
    "version": 3
   },
   "file_extension": ".py",
   "mimetype": "text/x-python",
   "name": "python",
   "nbconvert_exporter": "python",
   "pygments_lexer": "ipython3",
   "version": "3.11.5"
  }
 },
 "nbformat": 4,
 "nbformat_minor": 5
}
