{
 "cells": [
  {
   "cell_type": "code",
   "execution_count": 1,
   "id": "initial_id",
   "metadata": {
    "ExecuteTime": {
     "end_time": "2025-09-20T11:42:01.810527Z",
     "start_time": "2025-09-20T11:42:00.029944Z"
    },
    "collapsed": true
   },
   "outputs": [],
   "source": [
    "import torch\n",
    "import matplotlib.pyplot as plt\n",
    "\n",
    "from src.model import Model"
   ]
  },
  {
   "cell_type": "code",
   "execution_count": null,
   "id": "bb53ea945d9c0b0f",
   "metadata": {},
   "outputs": [],
   "source": [
    "# Allowed anisotropy in Stevens operators:\n",
    "#     c₁*(𝒪[2,-2]+2𝒪[2,-1]+2𝒪[2,1]) +\n",
    "#     c₂*(-7𝒪[4,-3]-2𝒪[4,-2]+𝒪[4,-1]+𝒪[4,1]+7𝒪[4,3]) +\n",
    "#     c₃*(𝒪[4,0]+5𝒪[4,4]) +\n",
    "#     c₄*(11𝒪[6,-6]+8𝒪[6,-3]-𝒪[6,-2]+8𝒪[6,-1]+8𝒪[6,1]-8𝒪[6,3]) +\n",
    "#     c₅*(-𝒪[6,0]+21𝒪[6,4]) +\n",
    "#     c₆*(9𝒪[6,-6]+24𝒪[6,-5]+5𝒪[6,-2]+8𝒪[6,-1]+8𝒪[6,1]+24𝒪[6,5])"
   ]
  }
 ],
 "metadata": {
  "kernelspec": {
   "display_name": "Python 3",
   "language": "python",
   "name": "python3"
  },
  "language_info": {
   "codemirror_mode": {
    "name": "ipython",
    "version": 2
   },
   "file_extension": ".py",
   "mimetype": "text/x-python",
   "name": "python",
   "nbconvert_exporter": "python",
   "pygments_lexer": "ipython2",
   "version": "2.7.6"
  }
 },
 "nbformat": 4,
 "nbformat_minor": 5
}
