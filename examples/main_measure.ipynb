{
 "cells": [
  {
   "cell_type": "code",
   "id": "initial_id",
   "metadata": {
    "collapsed": true,
    "ExecuteTime": {
     "end_time": "2025-09-15T13:28:36.584495Z",
     "start_time": "2025-09-15T13:28:35.436666Z"
    }
   },
   "source": [
    "import torch\n",
    "import matplotlib.pyplot as plt\n",
    "\n",
    "from src.zipdata import MeaData\n",
    "\n",
    "from src.unit import unit\n",
    "from src.model import Model"
   ],
   "outputs": [],
   "execution_count": 1
  },
  {
   "metadata": {
    "ExecuteTime": {
     "end_time": "2025-09-15T13:28:36.604297Z",
     "start_time": "2025-09-15T13:28:36.589202Z"
    }
   },
   "cell_type": "code",
   "source": [
    "# 0.1 build steven operators\n",
    "spin=4.5\n",
    "\n",
    "model = Model(spin=spin, g=torch.tensor([2.0, 2.0, 2.0]))\n",
    "\n",
    "# 0.2 build CEF parameters, unit : K\n",
    "B2 = unit.kB * torch.tensor([3.129e-2, 0.0, -3.909e-2, 0.0, 0.0])\n",
    "B4 = unit.kB * torch.tensor([-2.080e-3, 0.0, -3.477e-3, 0.0, -7.703e-4, 0.0, 0.0, 0.0, 0.0])\n",
    "B6 = unit.kB * torch.tensor([-9.551e-5, 0.0, 6.643e-5, 0.0, -1.331e-4, 0.0, 3.402e-6, 0.0, 0.0, 0.0, 0.0,  0.0, 0.0])\n",
    "\n",
    "# set the parameters for the model\n",
    "model.set_aCEF(B2, B4, B6)\n"
   ],
   "id": "8d87a4c8e5e893ac",
   "outputs": [
    {
     "name": "stdout",
     "output_type": "stream",
     "text": [
      "the steven operator for s=4.5 is successfully built\n",
      "set CEF parameters successful\n"
     ]
    }
   ],
   "execution_count": 2
  },
  {
   "metadata": {
    "ExecuteTime": {
     "end_time": "2025-09-15T13:28:36.627730Z",
     "start_time": "2025-09-15T13:28:36.615210Z"
    }
   },
   "cell_type": "code",
   "source": [
    "# 6.1. with the optimized parameters, calculate energy levels and associated wave functions\n",
    "B0 = torch.tensor([0.0])\n",
    "enr, psi = model.solve(B0)\n",
    "# enr unit : [K]\n",
    "# if the format is not so tidy up, try to copy the output to normal `txt` file"
   ],
   "id": "40451bf82775e3c3",
   "outputs": [
    {
     "name": "stdout",
     "output_type": "stream",
     "text": [
      "      Eigenvalue       |      |4.5>      |      |3.5>      |      |2.5>      |      |1.5>      |      |0.5>      |     |-0.5>      |     |-1.5>      |     |-2.5>      |     |-3.5>      |     |-4.5>     \n",
      "----------------------------------------------------------------------------------------------------------------------------------------------------------------------------------------------------------\n",
      "        0.0000         | +0.8725+0.0000j | -0.0000+0.0000j | +0.3942+0.0000j | +0.0000+0.0000j | -0.2171+0.0000j | -0.0000+0.0000j | +0.1900+0.0000j | -0.0000+0.0000j | +0.0098+0.0000j | -0.0000+0.0000j\n",
      "        0.0000         | -0.0000+0.0000j | -0.0098+0.0000j | -0.0000+0.0000j | -0.1900+0.0000j | -0.0000+0.0000j | +0.2171+0.0000j | +0.0000+0.0000j | -0.3942+0.0000j | +0.0000+0.0000j | -0.8725+0.0000j\n",
      "        2.4632         | +0.0156+0.0000j | -0.2113+0.0000j | -0.0070+0.0000j | +0.4232+0.0000j | +0.0344+0.0000j | -0.7880+0.0000j | -0.0185+0.0000j | +0.1592+0.0000j | +0.0092+0.0000j | -0.3577+0.0000j\n",
      "        2.4632         | +0.3577+0.0000j | +0.0092+0.0000j | -0.1592+0.0000j | -0.0185+0.0000j | +0.7880+0.0000j | +0.0344+0.0000j | -0.4232+0.0000j | -0.0070+0.0000j | +0.2113+0.0000j | +0.0156+0.0000j\n",
      "        4.0923         | -0.0147+0.0000j | +0.9174+0.0000j | +0.0263+0.0000j | -0.1188+0.0000j | -0.0173+0.0000j | -0.1828+0.0000j | -0.0112+0.0000j | +0.2786+0.0000j | +0.0867+0.0000j | -0.1558+0.0000j\n",
      "        4.0923         | -0.1558+0.0000j | -0.0867+0.0000j | +0.2786+0.0000j | +0.0112+0.0000j | -0.1828+0.0000j | +0.0173+0.0000j | -0.1188+0.0000j | -0.0263+0.0000j | +0.9174+0.0000j | +0.0147+0.0000j\n",
      "        4.4446         | +0.1258+0.0000j | -0.0055+0.0000j | -0.1466+0.0000j | -0.0325+0.0000j | -0.4966+0.0000j | -0.0194+0.0000j | -0.8335+0.0000j | -0.0057+0.0000j | -0.1410+0.0000j | +0.0049+0.0000j\n",
      "        4.4446         | -0.0049+0.0000j | -0.1410+0.0000j | +0.0057+0.0000j | -0.8335+0.0000j | +0.0194+0.0000j | -0.4966+0.0000j | +0.0325+0.0000j | -0.1466+0.0000j | +0.0055+0.0000j | +0.1258+0.0000j\n",
      "        6.2135         | -0.0012+0.0000j | -0.2933+0.0000j | +0.0038+0.0000j | -0.2728+0.0000j | +0.0010+0.0000j | +0.2237+0.0000j | -0.0012+0.0000j | +0.8482+0.0000j | -0.0013+0.0000j | -0.2648+0.0000j\n",
      "        6.2135         | -0.2648+0.0000j | +0.0013+0.0000j | +0.8482+0.0000j | +0.0012+0.0000j | +0.2237+0.0000j | -0.0010+0.0000j | -0.2728+0.0000j | -0.0038+0.0000j | -0.2933+0.0000j | +0.0012+0.0000j\n"
     ]
    }
   ],
   "execution_count": 3
  },
  {
   "metadata": {
    "ExecuteTime": {
     "end_time": "2025-09-15T13:28:36.678744Z",
     "start_time": "2025-09-15T13:28:36.649957Z"
    }
   },
   "cell_type": "code",
   "source": [
    "# 1.1 measure u, c\n",
    "kT = torch.linspace(10, 100, 400)\n",
    "B0 = torch.tensor([0.0])\n",
    "\n",
    "u, c = model.measure_uc(kT, B0)\n",
    "# unit:\n",
    "# [c] : J K^{-1} mol^{-1}\n",
    "\n",
    "# save the state\n",
    "cdata = MeaData()\n",
    "cdata.create(kT, c, B0)\n",
    "cdata.write('cv')\n"
   ],
   "id": "af7965586741584e",
   "outputs": [
    {
     "name": "stdout",
     "output_type": "stream",
     "text": [
      "data is successfully written into \"cv-0.00.dat\"\n"
     ]
    }
   ],
   "execution_count": 4
  },
  {
   "metadata": {
    "ExecuteTime": {
     "end_time": "2025-09-15T13:28:37.033928Z",
     "start_time": "2025-09-15T13:28:36.726398Z"
    }
   },
   "cell_type": "code",
   "source": [
    "# 1.2. plot\n",
    "plt.rcParams['figure.figsize'] = (6, 4.5)\n",
    "plt.rcParams['figure.facecolor'] = 'none'\n",
    "plt.rcParams['font.size'] = 15\n",
    "\n",
    "plt.rcParams['text.usetex'] = True\n",
    "plt.rcParams['text.latex.preamble'] = r'\\usepackage{amsmath,newtxtext,newtxmath,bm}'\n",
    "plt.rcParams['font.family'] = 'TeX Gyre Termes'\n",
    "\n",
    "plt.semilogx(kT.data, c.data, 'k-')\n",
    "plt.xlabel(r\"$T[\\rm{K}]$\")\n",
    "plt.ylabel(r\"$c[{\\rm J}\\cdot{\\rm K}^{-1}\\cdot{\\rm mol}^{-1}]$\")\n",
    "\n",
    "# plt.legend()\n",
    "plt.savefig('cv.png', dpi=300, transparent=True)\n",
    "\n",
    "plt.show()"
   ],
   "id": "abc42e097b53a7a2",
   "outputs": [
    {
     "data": {
      "text/plain": [
       "<Figure size 600x450 with 1 Axes>"
      ],
      "image/png": "[encoded data removed]"
     },
     "metadata": {
      "needs_background": "light"
     },
     "output_type": "display_data",
     "jetTransient": {
      "display_id": null
     }
    }
   ],
   "execution_count": 5
  },
  {
   "metadata": {
    "ExecuteTime": {
     "end_time": "2025-09-15T13:28:37.357450Z",
     "start_time": "2025-09-15T13:28:37.111321Z"
    }
   },
   "cell_type": "code",
   "source": [
    "# 2.1. measure m, chi\n",
    "kT = torch.linspace(10, 100, 400)\n",
    "B0 = torch.tensor([0.01])   # unit : T\n",
    "\n",
    "# eff : if use the effective chi\n",
    "m, chi = model.measure_mchi(kT, B0, eff=False)\n",
    "# unit :\n",
    "# chi : [emu mol^{-1}] CGS\n",
    "\n",
    "chidata = MeaData()\n",
    "chidata.create(kT, chi, B0)\n",
    "chidata.write('chi')\n"
   ],
   "id": "5a338163a1340199",
   "outputs": [
    {
     "name": "stdout",
     "output_type": "stream",
     "text": [
      "data is successfully written into \"chi-0.01.dat\"\n"
     ]
    }
   ],
   "execution_count": 6
  },
  {
   "metadata": {
    "ExecuteTime": {
     "end_time": "2025-09-15T13:28:37.531503Z",
     "start_time": "2025-09-15T13:28:37.369244Z"
    }
   },
   "cell_type": "code",
   "source": [
    "# 2.2. plot\n",
    "plt.rcParams['figure.figsize'] = (6, 4.5)\n",
    "plt.rcParams['figure.facecolor'] = 'none'\n",
    "plt.rcParams['font.size'] = 15\n",
    "\n",
    "plt.rcParams['text.usetex'] = True\n",
    "plt.rcParams['text.latex.preamble'] = r'\\usepackage{amsmath,newtxtext,newtxmath,bm}'\n",
    "plt.rcParams['font.family'] = 'TeX Gyre Termes'\n",
    "\n",
    "plt.plot(kT.data, chi.data, 'k-', label='$1 / \\chi$')\n",
    "plt.xlabel(r\"$T[\\rm{K}]$\")\n",
    "plt.ylabel(r\"$1 / \\chi[{\\rm mol} \\cdot {\\rm emu}^{-1}]$\")\n",
    "\n",
    "plt.legend()\n",
    "plt.savefig('chi.png', dpi=300, transparent=True)\n",
    "plt.show()"
   ],
   "id": "c1e2e41914d42c25",
   "outputs": [
    {
     "data": {
      "text/plain": [
       "<Figure size 600x450 with 1 Axes>"
      ],
      "image/png": "[encoded data removed]"
     },
     "metadata": {
      "needs_background": "light"
     },
     "output_type": "display_data",
     "jetTransient": {
      "display_id": null
     }
    }
   ],
   "execution_count": 7
  },
  {
   "metadata": {
    "ExecuteTime": {
     "end_time": "2025-09-15T13:28:37.600315Z",
     "start_time": "2025-09-15T13:28:37.598868Z"
    }
   },
   "cell_type": "code",
   "source": "",
   "id": "6a2517836596b757",
   "outputs": [],
   "execution_count": null
  }
 ],
 "metadata": {
  "kernelspec": {
   "display_name": "Python 3",
   "language": "python",
   "name": "python3"
  },
  "language_info": {
   "codemirror_mode": {
    "name": "ipython",
    "version": 2
   },
   "file_extension": ".py",
   "mimetype": "text/x-python",
   "name": "python",
   "nbconvert_exporter": "python",
   "pygments_lexer": "ipython2",
   "version": "2.7.6"
  }
 },
 "nbformat": 4,
 "nbformat_minor": 5
}
