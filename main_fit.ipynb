{
 "cells": [
  {
   "cell_type": "code",
   "id": "initial_id",
   "metadata": {
    "collapsed": true,
    "ExecuteTime": {
     "end_time": "2025-09-10T13:04:21.844831Z",
     "start_time": "2025-09-10T13:04:20.715439Z"
    }
   },
   "source": [
    "import torch\n",
    "import matplotlib.pyplot as plt\n",
    "\n",
    "from Operator import Operator\n",
    "from solve import solve, measure_uc, measure_mchi, fit\n",
    "\n",
    "from utils import print_state\n",
    "from zipdata import MeaData"
   ],
   "outputs": [],
   "execution_count": 1
  },
  {
   "cell_type": "code",
   "id": "1ea370f750a0f0b2",
   "metadata": {
    "ExecuteTime": {
     "end_time": "2025-09-10T13:04:21.850266Z",
     "start_time": "2025-09-10T13:04:21.847950Z"
    }
   },
   "source": [
    "# 0.1 define `build_CEFparam` function\n",
    "# below function builds :\n",
    "#   a[0] * O[2,2] + a[1] * O[2,0]\n",
    "# + a[2] * O[4,4] + a[3] * O[4,2]\n",
    "# + a[4] * O[4,0] + a[5] * O[6,6] + a[6] * O[6,4] + a[7] * O[6,2] + a[8] * O[6,0]\n",
    "\n",
    "def build_CEFparam(a):\n",
    "    r\"\"\"\n",
    "    build the coefficient for steven operators O[l,m]\n",
    "\n",
    "    Args:\n",
    "        a (torch.Tensor): initial parameters to construct\n",
    "\n",
    "    Returns:\n",
    "        B2 (torch.Tensor): coefficient for O[2,2],O[2,1],O[2,0],O[2,-1],O[2,-2]\n",
    "        B4 (torch.Tensor): coefficient for O[4,4],O[4,3],O[4,2],O[4,1],O[4,0],O[4,-1],O[4,-2],O[4,-3],O[4,-4]\n",
    "        B6 (torch.Tensor): coefficient for O[6,6],O[6,5],O[6,4],O[6,3],O[6,2],O[6,1],O[6,0],O[6,-1],O[6,-2],O[6,-3],O[6,-4],O[6,-5],O[6,-6]\n",
    "    \"\"\"\n",
    "    zero = torch.tensor(0.0)\n",
    "\n",
    "    B2 = torch.stack([a[0], zero, a[1], zero, zero])\n",
    "    B4 = torch.stack([a[2], zero, a[3], zero, a[4], zero, zero, zero, zero])\n",
    "    B6 = torch.stack([a[5], zero, a[6], zero, a[7], zero, a[8], zero, zero, zero, zero, zero, zero])\n",
    "\n",
    "    return B2, B4, B6"
   ],
   "outputs": [],
   "execution_count": 2
  },
  {
   "metadata": {
    "ExecuteTime": {
     "end_time": "2025-09-10T13:04:21.854247Z",
     "start_time": "2025-09-10T13:04:21.852502Z"
    }
   },
   "cell_type": "code",
   "source": [
    "# 0.2 define `build_field` function\n",
    "# below define a g * \\mu_{B} * B^{z}\n",
    "def build_field(B):\n",
    "    \"\"\"\n",
    "    The function to build H\n",
    "    default for z-axis\n",
    "    Args:\n",
    "        B: the magnetic field\n",
    "\n",
    "    Returns:\n",
    "        H: g μB B\n",
    "\n",
    "    \"\"\"\n",
    "\n",
    "    zero = torch.tensor([0.0])\n",
    "    # g-tensor\n",
    "    g = torch.tensor([1.0, 1.0, 1.0])\n",
    "    μB = 1.0\n",
    "\n",
    "    # x-axis\n",
    "    # H = torch.cat([B, zero, zero])\n",
    "    # y-axis\n",
    "    # H = torch.cat([zero, B, zero])\n",
    "    # z-axis\n",
    "    H = torch.cat([zero, zero, B])\n",
    "    H = μB * g * H\n",
    "    return H"
   ],
   "id": "f3b16cdf7ecd398e",
   "outputs": [],
   "execution_count": 3
  },
  {
   "cell_type": "code",
   "id": "f5983be01f9f39d4",
   "metadata": {
    "ExecuteTime": {
     "end_time": "2025-09-10T13:04:21.864122Z",
     "start_time": "2025-09-10T13:04:21.857949Z"
    }
   },
   "source": [
    "# 0. set seed\n",
    "# different seed should be considered\n",
    "torch.manual_seed(0)\n",
    "\n",
    "# 1. define steven operators\n",
    "spin=4.5\n",
    "op = Operator(spin)\n",
    "\n",
    "# 2. load experiment data\n",
    "# cv data\n",
    "cdata1 = MeaData()\n",
    "cdata1.read(filename = 'cv-0.00.dat', B0 = 0.0)\n",
    "# cdata2, cdata3, ... for more data\n",
    "\n",
    "cdata = (cdata1,)\n",
    "# cdata = (cdata1, cdata2, cdata3, ...)\n",
    "\n",
    "# chi data\n",
    "chidata1 = MeaData()\n",
    "chidata1.read(filename = 'chi-1.00.dat', B0 = 1.0)\n",
    "# chidata2, chidata3, ... for more data\n",
    "\n",
    "chidata = (chidata1,)\n",
    "# chidata = (chidata1, chidata2, chidata3, ...)\n"
   ],
   "outputs": [
    {
     "name": "stdout",
     "output_type": "stream",
     "text": [
      "the steven operator for s=4.5 is successfully built\n"
     ]
    }
   ],
   "execution_count": 4
  },
  {
   "metadata": {
    "ExecuteTime": {
     "end_time": "2025-09-10T13:05:44.926471Z",
     "start_time": "2025-09-10T13:04:21.907412Z"
    }
   },
   "cell_type": "code",
   "source": [
    "# 3. set the initial parameters, bounds(optional), method(optional) for curve fit\n",
    "# opt1: give a guess\n",
    "# a0 = torch.tensor([0.3631, -0.4536, 0.0241, 0.0403, 0.0089, -0.001, 0.0008, 0.0015, -3.94e-5])\n",
    "\n",
    "# opt2: give a scope, different scale is suggested to try\n",
    "a0 = 0.01 * (torch.rand(9) - 0.5) # [-0.005, 0.005)\n",
    "\n",
    "# consider lambda and chi0 correction for magnetic susceptibility\n",
    "a0 = torch.cat((a0, torch.tensor([0.0]), torch.tensor([0.0])))\n",
    "\n",
    "# not necessary\n",
    "# bounds = list(zip(-np.ones(a0.shape[0]), np.ones(a0.shape[0])))\n",
    "# method='L-BFGS-B'\n",
    "\n",
    "# 4.1 fit, a function to call `scipy.optimize.minimize`, see more details about it https://docs.scipy.org/doc/scipy/reference/generated/scipy.optimize.curve_fit.html\n",
    "res = fit(a0,\n",
    "          build_field,\n",
    "          op,\n",
    "          build_CEFparam,\n",
    "          cdata = cdata,\n",
    "          chidata = chidata,\n",
    "          weight = 1.0)\n",
    "\n",
    "# res = fit(a0,\n",
    "#           build_field,\n",
    "#           op,\n",
    "#           build_CEFparam,\n",
    "#           cdata = cdata,\n",
    "#           chidata = chidata,\n",
    "#           weight = 1.0,\n",
    "#           bounds = bounds,\n",
    "#           method = method)\n",
    "\n",
    "# check if the fit succeed\n",
    "print(res)\n",
    "\n",
    "# 4.2. obtain the CFT parameters\n",
    "x = torch.tensor(res.x)\n",
    "\n",
    "# 4.3. recover the parameters\n",
    "num = x.shape[0]\n",
    "a = x[:num-2]\n",
    "B2, B4, B6 = build_CEFparam(a)\n",
    "λ = x[-2]\n",
    "chi0 = x[-1]\n"
   ],
   "id": "d73cddff0ad367f3",
   "outputs": [
    {
     "name": "stdout",
     "output_type": "stream",
     "text": [
      "  message: CONVERGENCE: REL_REDUCTION_OF_F_<=_FACTR*EPSMCH\n",
      "  success: True\n",
      "   status: 0\n",
      "      fun: 0.0001686100916498055\n",
      "        x: [-6.732e-04  3.865e-03  9.565e-03 -2.306e-02  1.831e-03\n",
      "            -3.633e-03  7.873e-04  3.095e-03  1.846e-05 -4.102e-04\n",
      "            -1.199e-03]\n",
      "      nit: 136\n",
      "      jac: [ 2.537e-03  2.919e-03  4.697e-04  6.638e-04  1.997e-02\n",
      "             8.177e-04  3.947e-02 -3.447e-02 -4.796e-02  2.213e-03\n",
      "             2.071e-02]\n",
      "     nfev: 205\n",
      "     njev: 205\n",
      " hess_inv: <11x11 LbfgsInvHessProduct with dtype=float64>\n"
     ]
    }
   ],
   "execution_count": 5
  },
  {
   "metadata": {
    "ExecuteTime": {
     "end_time": "2025-09-10T13:05:50.881690Z",
     "start_time": "2025-09-10T13:05:50.878361Z"
    }
   },
   "cell_type": "code",
   "source": [
    "# 5.1. with the optimized parameters, calculate energy and heat specific\n",
    "kT = cdata1.kT\n",
    "B0 = cdata1.B0\n",
    "u, c = measure_uc(op, kT, B0, build_field, B2, B4, B6)"
   ],
   "id": "4149809818603780",
   "outputs": [],
   "execution_count": 12
  },
  {
   "metadata": {
    "ExecuteTime": {
     "end_time": "2025-09-10T13:05:51.465176Z",
     "start_time": "2025-09-10T13:05:51.375963Z"
    }
   },
   "cell_type": "code",
   "source": [
    "# 5.2. plot\n",
    "cexp = cdata1.measure\n",
    "plt.rcParams['figure.figsize'] = (6, 4.5)\n",
    "plt.rcParams['figure.facecolor'] = 'none'\n",
    "plt.rcParams['font.size'] = 15\n",
    "\n",
    "plt.rcParams['text.usetex'] = True\n",
    "plt.rcParams['text.latex.preamble'] = r'\\usepackage{amsmath,newtxtext,newtxmath,bm}'\n",
    "plt.rcParams['font.family'] = 'TeX Gyre Termes'\n",
    "\n",
    "plt.semilogx(kT.data, cexp.data, 'rs', label='exp')\n",
    "plt.semilogx(kT.data, c.data, 'k-', label='fit')\n",
    "plt.xlabel(r\"T[\\rm{K}]\")\n",
    "plt.ylabel(r\"C[\\rm{arb.unit}]\")\n",
    "\n",
    "plt.legend()\n",
    "plt.show()\n"
   ],
   "id": "b217bcc4b95d8363",
   "outputs": [
    {
     "data": {
      "text/plain": [
       "<Figure size 600x450 with 1 Axes>"
      ],
      "image/png": "[encoded data removed]"
     },
     "metadata": {
      "needs_background": "light"
     },
     "output_type": "display_data",
     "jetTransient": {
      "display_id": null
     }
    }
   ],
   "execution_count": 13
  },
  {
   "metadata": {
    "ExecuteTime": {
     "end_time": "2025-09-10T13:05:52.557379Z",
     "start_time": "2025-09-10T13:05:52.346612Z"
    }
   },
   "cell_type": "code",
   "source": [
    "# 5.3. with the optimized parameters, calculate magnetization and susceptibility\n",
    "kT = chidata1.kT\n",
    "B0 = chidata1.B0\n",
    "m, chi = measure_mchi(op, kT, B0, build_field, B2, B4, B6)"
   ],
   "id": "3350090493614d61",
   "outputs": [],
   "execution_count": 14
  },
  {
   "metadata": {
    "ExecuteTime": {
     "end_time": "2025-09-10T13:05:53.028101Z",
     "start_time": "2025-09-10T13:05:52.929950Z"
    }
   },
   "cell_type": "code",
   "source": [
    "# 5.4. plot\n",
    "chiexp = chidata1.measure\n",
    "plt.rcParams['figure.figsize'] = (6, 4.5)\n",
    "plt.rcParams['figure.facecolor'] = 'none'\n",
    "plt.rcParams['font.size'] = 15\n",
    "\n",
    "plt.rcParams['text.usetex'] = True\n",
    "plt.rcParams['text.latex.preamble'] = r'\\usepackage{amsmath,newtxtext,newtxmath,bm}'\n",
    "plt.rcParams['font.family'] = 'TeX Gyre Termes'\n",
    "\n",
    "plt.semilogx(kT.data, chiexp.data, 'rs', label='exp')\n",
    "plt.semilogx(kT.data, chi.data, 'k-', label='fit')\n",
    "plt.xlabel(r\"T[\\rm{K}]\")\n",
    "plt.ylabel(r\"chi[\\rm{arb.unit}]\")\n",
    "\n",
    "plt.legend()\n",
    "plt.show()\n"
   ],
   "id": "5f30cdb324b0f28b",
   "outputs": [
    {
     "data": {
      "text/plain": [
       "<Figure size 600x450 with 1 Axes>"
      ],
      "image/png": "[encoded data removed]"
     },
     "metadata": {
      "needs_background": "light"
     },
     "output_type": "display_data",
     "jetTransient": {
      "display_id": null
     }
    }
   ],
   "execution_count": 15
  },
  {
   "metadata": {
    "ExecuteTime": {
     "end_time": "2025-09-10T13:05:53.859440Z",
     "start_time": "2025-09-10T13:05:53.857009Z"
    }
   },
   "cell_type": "code",
   "source": [
    "# 6.1. with the optimized parameters, calculate energy levels and associated wave functions\n",
    "enr, psi = solve(op, build_field(B0), B2, B4, B6)"
   ],
   "id": "67315f8eae82bf2a",
   "outputs": [],
   "execution_count": 16
  },
  {
   "metadata": {
    "ExecuteTime": {
     "end_time": "2025-09-10T13:05:55.238319Z",
     "start_time": "2025-09-10T13:05:55.232836Z"
    }
   },
   "cell_type": "code",
   "source": [
    "# 6.2. list the states\n",
    "N = op.N\n",
    "print_state(N, enr, psi)\n",
    "# if the format is not so tidy up, try to copy the output to normal `txt` file"
   ],
   "id": "3a3cf8c3a8da99db",
   "outputs": [
    {
     "name": "stdout",
     "output_type": "stream",
     "text": [
      "      Eigenvalue       |      |4.5>      |      |4.0>      |      |3.5>      |      |3.0>      |      |2.5>      |      |2.0>      |      |1.5>      |      |1.0>      |      |0.5>      |      |0.0>      |     |-0.5>      |     |-1.0>      |     |-1.5>      |     |-2.0>      |     |-2.5>      |     |-3.0>      |     |-3.5>      |     |-4.0>      |     |-4.5>     \n",
      "----------------------------------------------------------------------------------------------------------------------------------------------------------------------------------------------------------------------------------------------------------------------------------------------------------------------------------------------------------------------------\n",
      "        0.0000         | -0.1748+0.0000j | -0.0000+0.3957j | -0.1314-0.0000j | -0.0000+0.4524j | +0.3015+0.0000j | +0.0000-0.3015j | -0.4524-0.0000j | -0.0000+0.1314j | -0.3957-0.0000j | -0.0000+0.1748j\n",
      "        3.8201         | -0.1121-0.0000j | -0.0000-0.4743j | -0.2177+0.0000j | -0.0000-0.4183j | +0.2003-0.0000j | +0.0000+0.2003j | -0.4183+0.0000j | -0.0000-0.2177j | -0.4743+0.0000j | -0.0000-0.1121j\n",
      "       15.7862         | -0.3296+0.0000j | -0.0000+0.2081j | +0.4448-0.0000j | +0.0000-0.2298j | +0.3121-0.0000j | -0.0000+0.3121j | -0.2298-0.0000j | -0.0000+0.4448j | +0.2081-0.0000j | +0.0000-0.3296j\n",
      "       18.0894         | +0.2672+0.0000j | -0.0000+0.3004j | -0.4819-0.0000j | +0.0000-0.0911j | -0.3127+0.0000j | -0.0000+0.3127j | +0.0911-0.0000j | -0.0000+0.4819j | -0.3004-0.0000j | +0.0000-0.2672j\n",
      "       45.5520         | -0.5728+0.0000j | -0.0000+0.0875j | +0.0045-0.0000j | -0.0000-0.0270j | -0.4044+0.0000j | -0.0000+0.4044j | +0.0270+0.0000j | -0.0000-0.0045j | -0.0875+0.0000j | +0.0000+0.5728j\n",
      "       47.4868         | +0.5800+0.0000j | -0.0000-0.0161j | +0.1562+0.0000j | +0.0000-0.0411j | +0.3705-0.0000j | -0.0000+0.3705j | -0.0411+0.0000j | +0.0000+0.1562j | -0.0161-0.0000j | -0.0000+0.5800j\n",
      "       54.5308         | -0.2203+0.0000j | +0.0000-0.3846j | -0.5003+0.0000j | +0.0000-0.0449j | +0.2263-0.0000j | +0.0000-0.2263j | +0.0449-0.0000j | -0.0000+0.5003j | +0.3846-0.0000j | -0.0000+0.2203j\n",
      "       55.2833         | -0.1531+0.0000j | -0.0000+0.2219j | -0.4182-0.0000j | -0.0000+0.2227j | +0.4504+0.0000j | -0.0000+0.4504j | +0.2227+0.0000j | +0.0000-0.4182j | +0.2219-0.0000j | +0.0000-0.1531j\n",
      "       66.4795         | -0.1464+0.0000j | -0.0000+0.3124j | +0.0127-0.0000j | +0.0000-0.5332j | +0.3108+0.0000j | +0.0000-0.3108j | +0.5332+0.0000j | +0.0000-0.0127j | -0.3124+0.0000j | -0.0000+0.1464j\n",
      "       67.2755         | -0.1376+0.0000j | +0.0000-0.4269j | +0.2355+0.0000j | -0.0000+0.4701j | +0.1497-0.0000j | -0.0000+0.1497j | +0.4701-0.0000j | -0.0000+0.2355j | -0.4269-0.0000j | +0.0000-0.1376j\n"
     ]
    }
   ],
   "execution_count": 17
  },
  {
   "metadata": {
    "ExecuteTime": {
     "end_time": "2025-09-10T13:05:45.510282Z",
     "start_time": "2025-09-10T13:05:45.508694Z"
    }
   },
   "cell_type": "code",
   "source": "",
   "id": "f48a1239319cba7",
   "outputs": [],
   "execution_count": null
  }
 ],
 "metadata": {
  "kernelspec": {
   "display_name": "PYTORCH",
   "language": "python",
   "name": "python3"
  },
  "language_info": {
   "codemirror_mode": {
    "name": "ipython",
    "version": 3
   },
   "file_extension": ".py",
   "mimetype": "text/x-python",
   "name": "python",
   "nbconvert_exporter": "python",
   "pygments_lexer": "ipython3",
   "version": "3.11.5"
  }
 },
 "nbformat": 4,
 "nbformat_minor": 5
}
